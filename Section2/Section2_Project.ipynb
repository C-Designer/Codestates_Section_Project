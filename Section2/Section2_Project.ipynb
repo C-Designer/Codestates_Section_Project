{
  "nbformat": 4,
  "nbformat_minor": 0,
  "metadata": {
    "colab": {
      "name": "Section2_Project.ipynb",
      "provenance": [],
      "mount_file_id": "1N8cATYSOyhZ9CTtTWFm92ibAoYFo94pS",
      "authorship_tag": "ABX9TyN62D6/6kUUqMyTtIi5i/mb",
      "include_colab_link": true
    },
    "kernelspec": {
      "name": "python3",
      "display_name": "Python 3"
    }
  },
  "cells": [
    {
      "cell_type": "markdown",
      "metadata": {
        "id": "view-in-github",
        "colab_type": "text"
      },
      "source": [
        "<a href=\"https://colab.research.google.com/github/C-Designer/Codestates_Section_Project/blob/main/Section2/Section2_Project.ipynb\" target=\"_parent\"><img src=\"https://colab.research.google.com/assets/colab-badge.svg\" alt=\"Open In Colab\"/></a>"
      ]
    },
    {
      "cell_type": "code",
      "metadata": {
        "colab": {
          "base_uri": "https://localhost:8080/"
        },
        "id": "hbjNxZR90FK4",
        "outputId": "1b03ce48-a01b-4872-b862-368c7f1a1159"
      },
      "source": [
        "!pip install -U pandas-profiling\n",
        "!pip install category_encoders\n",
        "!pip install pdpbox\n",
        "!pip install shap"
      ],
      "execution_count": 1,
      "outputs": [
        {
          "output_type": "stream",
          "text": [
            "Collecting pandas-profiling\n",
            "\u001b[?25l  Downloading https://files.pythonhosted.org/packages/dd/12/e2870750c5320116efe7bebd4ae1709cd7e35e3bc23ac8039864b05b9497/pandas_profiling-2.11.0-py2.py3-none-any.whl (243kB)\n",
            "\u001b[K     |████████████████████████████████| 245kB 8.4MB/s \n",
            "\u001b[?25hRequirement already satisfied, skipping upgrade: matplotlib>=3.2.0 in /usr/local/lib/python3.6/dist-packages (from pandas-profiling) (3.2.2)\n",
            "Collecting visions[type_image_path]==0.6.0\n",
            "\u001b[?25l  Downloading https://files.pythonhosted.org/packages/98/30/b1e70bc55962239c4c3c9660e892be2d8247a882135a3035c10ff7f02cde/visions-0.6.0-py3-none-any.whl (75kB)\n",
            "\u001b[K     |████████████████████████████████| 81kB 7.6MB/s \n",
            "\u001b[?25hCollecting tqdm>=4.48.2\n",
            "\u001b[?25l  Downloading https://files.pythonhosted.org/packages/d9/13/f3f815bb73804a8af9cfbb6f084821c037109108885f46131045e8cf044e/tqdm-4.57.0-py2.py3-none-any.whl (72kB)\n",
            "\u001b[K     |████████████████████████████████| 81kB 6.8MB/s \n",
            "\u001b[?25hCollecting confuse>=1.0.0\n",
            "  Downloading https://files.pythonhosted.org/packages/6d/55/b4726d81e5d6509fa3441f770f8a9524612627dc1b2a7d6209d1d20083fe/confuse-1.4.0-py2.py3-none-any.whl\n",
            "Requirement already satisfied, skipping upgrade: jinja2>=2.11.1 in /usr/local/lib/python3.6/dist-packages (from pandas-profiling) (2.11.3)\n",
            "Requirement already satisfied, skipping upgrade: joblib in /usr/local/lib/python3.6/dist-packages (from pandas-profiling) (1.0.0)\n",
            "Requirement already satisfied, skipping upgrade: numpy>=1.16.0 in /usr/local/lib/python3.6/dist-packages (from pandas-profiling) (1.19.5)\n",
            "Collecting requests>=2.24.0\n",
            "\u001b[?25l  Downloading https://files.pythonhosted.org/packages/29/c1/24814557f1d22c56d50280771a17307e6bf87b70727d975fd6b2ce6b014a/requests-2.25.1-py2.py3-none-any.whl (61kB)\n",
            "\u001b[K     |████████████████████████████████| 61kB 5.5MB/s \n",
            "\u001b[?25hRequirement already satisfied, skipping upgrade: pandas!=1.0.0,!=1.0.1,!=1.0.2,!=1.1.0,>=0.25.3 in /usr/local/lib/python3.6/dist-packages (from pandas-profiling) (1.1.5)\n",
            "Requirement already satisfied, skipping upgrade: attrs>=19.3.0 in /usr/local/lib/python3.6/dist-packages (from pandas-profiling) (20.3.0)\n",
            "Requirement already satisfied, skipping upgrade: seaborn>=0.10.1 in /usr/local/lib/python3.6/dist-packages (from pandas-profiling) (0.11.1)\n",
            "Collecting phik>=0.10.0\n",
            "\u001b[?25l  Downloading https://files.pythonhosted.org/packages/d9/27/d4197ed93c26d9eeedb7c73c0f24462a65c617807c3140e012950c35ccf9/phik-0.11.0.tar.gz (594kB)\n",
            "\u001b[K     |████████████████████████████████| 604kB 7.7MB/s \n",
            "\u001b[?25hRequirement already satisfied, skipping upgrade: scipy>=1.4.1 in /usr/local/lib/python3.6/dist-packages (from pandas-profiling) (1.4.1)\n",
            "Requirement already satisfied, skipping upgrade: missingno>=0.4.2 in /usr/local/lib/python3.6/dist-packages (from pandas-profiling) (0.4.2)\n",
            "Collecting tangled-up-in-unicode>=0.0.6\n",
            "\u001b[?25l  Downloading https://files.pythonhosted.org/packages/4a/e2/e588ab9298d4989ce7fdb2b97d18aac878d99dbdc379a4476a09d9271b68/tangled_up_in_unicode-0.0.6-py3-none-any.whl (3.1MB)\n",
            "\u001b[K     |████████████████████████████████| 3.1MB 16.4MB/s \n",
            "\u001b[?25hRequirement already satisfied, skipping upgrade: ipywidgets>=7.5.1 in /usr/local/lib/python3.6/dist-packages (from pandas-profiling) (7.6.3)\n",
            "Collecting htmlmin>=0.1.12\n",
            "  Downloading https://files.pythonhosted.org/packages/b3/e7/fcd59e12169de19f0131ff2812077f964c6b960e7c09804d30a7bf2ab461/htmlmin-0.1.12.tar.gz\n",
            "Requirement already satisfied, skipping upgrade: pyparsing!=2.0.4,!=2.1.2,!=2.1.6,>=2.0.1 in /usr/local/lib/python3.6/dist-packages (from matplotlib>=3.2.0->pandas-profiling) (2.4.7)\n",
            "Requirement already satisfied, skipping upgrade: kiwisolver>=1.0.1 in /usr/local/lib/python3.6/dist-packages (from matplotlib>=3.2.0->pandas-profiling) (1.3.1)\n",
            "Requirement already satisfied, skipping upgrade: cycler>=0.10 in /usr/local/lib/python3.6/dist-packages (from matplotlib>=3.2.0->pandas-profiling) (0.10.0)\n",
            "Requirement already satisfied, skipping upgrade: python-dateutil>=2.1 in /usr/local/lib/python3.6/dist-packages (from matplotlib>=3.2.0->pandas-profiling) (2.8.1)\n",
            "Requirement already satisfied, skipping upgrade: networkx>=2.4 in /usr/local/lib/python3.6/dist-packages (from visions[type_image_path]==0.6.0->pandas-profiling) (2.5)\n",
            "Requirement already satisfied, skipping upgrade: Pillow; extra == \"type_image_path\" in /usr/local/lib/python3.6/dist-packages (from visions[type_image_path]==0.6.0->pandas-profiling) (7.0.0)\n",
            "Collecting imagehash; extra == \"type_image_path\"\n",
            "\u001b[?25l  Downloading https://files.pythonhosted.org/packages/8e/18/9dbb772b5ef73a3069c66bb5bf29b9fb4dd57af0d5790c781c3f559bcca6/ImageHash-4.2.0-py2.py3-none-any.whl (295kB)\n",
            "\u001b[K     |████████████████████████████████| 296kB 41.5MB/s \n",
            "\u001b[?25hRequirement already satisfied, skipping upgrade: pyyaml in /usr/local/lib/python3.6/dist-packages (from confuse>=1.0.0->pandas-profiling) (3.13)\n",
            "Requirement already satisfied, skipping upgrade: MarkupSafe>=0.23 in /usr/local/lib/python3.6/dist-packages (from jinja2>=2.11.1->pandas-profiling) (1.1.1)\n",
            "Requirement already satisfied, skipping upgrade: urllib3<1.27,>=1.21.1 in /usr/local/lib/python3.6/dist-packages (from requests>=2.24.0->pandas-profiling) (1.24.3)\n",
            "Requirement already satisfied, skipping upgrade: certifi>=2017.4.17 in /usr/local/lib/python3.6/dist-packages (from requests>=2.24.0->pandas-profiling) (2020.12.5)\n",
            "Requirement already satisfied, skipping upgrade: idna<3,>=2.5 in /usr/local/lib/python3.6/dist-packages (from requests>=2.24.0->pandas-profiling) (2.10)\n",
            "Requirement already satisfied, skipping upgrade: chardet<5,>=3.0.2 in /usr/local/lib/python3.6/dist-packages (from requests>=2.24.0->pandas-profiling) (3.0.4)\n",
            "Requirement already satisfied, skipping upgrade: pytz>=2017.2 in /usr/local/lib/python3.6/dist-packages (from pandas!=1.0.0,!=1.0.1,!=1.0.2,!=1.1.0,>=0.25.3->pandas-profiling) (2018.9)\n",
            "Requirement already satisfied, skipping upgrade: numba>=0.38.1 in /usr/local/lib/python3.6/dist-packages (from phik>=0.10.0->pandas-profiling) (0.51.2)\n",
            "Requirement already satisfied, skipping upgrade: nbformat>=4.2.0 in /usr/local/lib/python3.6/dist-packages (from ipywidgets>=7.5.1->pandas-profiling) (5.1.2)\n",
            "Requirement already satisfied, skipping upgrade: traitlets>=4.3.1 in /usr/local/lib/python3.6/dist-packages (from ipywidgets>=7.5.1->pandas-profiling) (4.3.3)\n",
            "Requirement already satisfied, skipping upgrade: ipykernel>=4.5.1 in /usr/local/lib/python3.6/dist-packages (from ipywidgets>=7.5.1->pandas-profiling) (4.10.1)\n",
            "Requirement already satisfied, skipping upgrade: jupyterlab-widgets>=1.0.0; python_version >= \"3.6\" in /usr/local/lib/python3.6/dist-packages (from ipywidgets>=7.5.1->pandas-profiling) (1.0.0)\n",
            "Requirement already satisfied, skipping upgrade: widgetsnbextension~=3.5.0 in /usr/local/lib/python3.6/dist-packages (from ipywidgets>=7.5.1->pandas-profiling) (3.5.1)\n",
            "Requirement already satisfied, skipping upgrade: ipython>=4.0.0; python_version >= \"3.3\" in /usr/local/lib/python3.6/dist-packages (from ipywidgets>=7.5.1->pandas-profiling) (5.5.0)\n",
            "Requirement already satisfied, skipping upgrade: six in /usr/local/lib/python3.6/dist-packages (from cycler>=0.10->matplotlib>=3.2.0->pandas-profiling) (1.15.0)\n",
            "Requirement already satisfied, skipping upgrade: decorator>=4.3.0 in /usr/local/lib/python3.6/dist-packages (from networkx>=2.4->visions[type_image_path]==0.6.0->pandas-profiling) (4.4.2)\n",
            "Requirement already satisfied, skipping upgrade: PyWavelets in /usr/local/lib/python3.6/dist-packages (from imagehash; extra == \"type_image_path\"->visions[type_image_path]==0.6.0->pandas-profiling) (1.1.1)\n",
            "Requirement already satisfied, skipping upgrade: setuptools in /usr/local/lib/python3.6/dist-packages (from numba>=0.38.1->phik>=0.10.0->pandas-profiling) (53.0.0)\n",
            "Requirement already satisfied, skipping upgrade: llvmlite<0.35,>=0.34.0.dev0 in /usr/local/lib/python3.6/dist-packages (from numba>=0.38.1->phik>=0.10.0->pandas-profiling) (0.34.0)\n",
            "Requirement already satisfied, skipping upgrade: jupyter-core in /usr/local/lib/python3.6/dist-packages (from nbformat>=4.2.0->ipywidgets>=7.5.1->pandas-profiling) (4.7.1)\n",
            "Requirement already satisfied, skipping upgrade: jsonschema!=2.5.0,>=2.4 in /usr/local/lib/python3.6/dist-packages (from nbformat>=4.2.0->ipywidgets>=7.5.1->pandas-profiling) (2.6.0)\n",
            "Requirement already satisfied, skipping upgrade: ipython-genutils in /usr/local/lib/python3.6/dist-packages (from nbformat>=4.2.0->ipywidgets>=7.5.1->pandas-profiling) (0.2.0)\n",
            "Requirement already satisfied, skipping upgrade: tornado>=4.0 in /usr/local/lib/python3.6/dist-packages (from ipykernel>=4.5.1->ipywidgets>=7.5.1->pandas-profiling) (5.1.1)\n",
            "Requirement already satisfied, skipping upgrade: jupyter-client in /usr/local/lib/python3.6/dist-packages (from ipykernel>=4.5.1->ipywidgets>=7.5.1->pandas-profiling) (5.3.5)\n",
            "Requirement already satisfied, skipping upgrade: notebook>=4.4.1 in /usr/local/lib/python3.6/dist-packages (from widgetsnbextension~=3.5.0->ipywidgets>=7.5.1->pandas-profiling) (5.3.1)\n",
            "Requirement already satisfied, skipping upgrade: pickleshare in /usr/local/lib/python3.6/dist-packages (from ipython>=4.0.0; python_version >= \"3.3\"->ipywidgets>=7.5.1->pandas-profiling) (0.7.5)\n",
            "Requirement already satisfied, skipping upgrade: pygments in /usr/local/lib/python3.6/dist-packages (from ipython>=4.0.0; python_version >= \"3.3\"->ipywidgets>=7.5.1->pandas-profiling) (2.6.1)\n",
            "Requirement already satisfied, skipping upgrade: prompt-toolkit<2.0.0,>=1.0.4 in /usr/local/lib/python3.6/dist-packages (from ipython>=4.0.0; python_version >= \"3.3\"->ipywidgets>=7.5.1->pandas-profiling) (1.0.18)\n",
            "Requirement already satisfied, skipping upgrade: pexpect; sys_platform != \"win32\" in /usr/local/lib/python3.6/dist-packages (from ipython>=4.0.0; python_version >= \"3.3\"->ipywidgets>=7.5.1->pandas-profiling) (4.8.0)\n",
            "Requirement already satisfied, skipping upgrade: simplegeneric>0.8 in /usr/local/lib/python3.6/dist-packages (from ipython>=4.0.0; python_version >= \"3.3\"->ipywidgets>=7.5.1->pandas-profiling) (0.8.1)\n",
            "Requirement already satisfied, skipping upgrade: pyzmq>=13 in /usr/local/lib/python3.6/dist-packages (from jupyter-client->ipykernel>=4.5.1->ipywidgets>=7.5.1->pandas-profiling) (22.0.2)\n",
            "Requirement already satisfied, skipping upgrade: Send2Trash in /usr/local/lib/python3.6/dist-packages (from notebook>=4.4.1->widgetsnbextension~=3.5.0->ipywidgets>=7.5.1->pandas-profiling) (1.5.0)\n",
            "Requirement already satisfied, skipping upgrade: nbconvert in /usr/local/lib/python3.6/dist-packages (from notebook>=4.4.1->widgetsnbextension~=3.5.0->ipywidgets>=7.5.1->pandas-profiling) (5.6.1)\n",
            "Requirement already satisfied, skipping upgrade: terminado>=0.8.1 in /usr/local/lib/python3.6/dist-packages (from notebook>=4.4.1->widgetsnbextension~=3.5.0->ipywidgets>=7.5.1->pandas-profiling) (0.9.2)\n",
            "Requirement already satisfied, skipping upgrade: wcwidth in /usr/local/lib/python3.6/dist-packages (from prompt-toolkit<2.0.0,>=1.0.4->ipython>=4.0.0; python_version >= \"3.3\"->ipywidgets>=7.5.1->pandas-profiling) (0.2.5)\n",
            "Requirement already satisfied, skipping upgrade: ptyprocess>=0.5 in /usr/local/lib/python3.6/dist-packages (from pexpect; sys_platform != \"win32\"->ipython>=4.0.0; python_version >= \"3.3\"->ipywidgets>=7.5.1->pandas-profiling) (0.7.0)\n",
            "Requirement already satisfied, skipping upgrade: pandocfilters>=1.4.1 in /usr/local/lib/python3.6/dist-packages (from nbconvert->notebook>=4.4.1->widgetsnbextension~=3.5.0->ipywidgets>=7.5.1->pandas-profiling) (1.4.3)\n",
            "Requirement already satisfied, skipping upgrade: bleach in /usr/local/lib/python3.6/dist-packages (from nbconvert->notebook>=4.4.1->widgetsnbextension~=3.5.0->ipywidgets>=7.5.1->pandas-profiling) (3.3.0)\n",
            "Requirement already satisfied, skipping upgrade: entrypoints>=0.2.2 in /usr/local/lib/python3.6/dist-packages (from nbconvert->notebook>=4.4.1->widgetsnbextension~=3.5.0->ipywidgets>=7.5.1->pandas-profiling) (0.3)\n",
            "Requirement already satisfied, skipping upgrade: defusedxml in /usr/local/lib/python3.6/dist-packages (from nbconvert->notebook>=4.4.1->widgetsnbextension~=3.5.0->ipywidgets>=7.5.1->pandas-profiling) (0.6.0)\n",
            "Requirement already satisfied, skipping upgrade: mistune<2,>=0.8.1 in /usr/local/lib/python3.6/dist-packages (from nbconvert->notebook>=4.4.1->widgetsnbextension~=3.5.0->ipywidgets>=7.5.1->pandas-profiling) (0.8.4)\n",
            "Requirement already satisfied, skipping upgrade: testpath in /usr/local/lib/python3.6/dist-packages (from nbconvert->notebook>=4.4.1->widgetsnbextension~=3.5.0->ipywidgets>=7.5.1->pandas-profiling) (0.4.4)\n",
            "Requirement already satisfied, skipping upgrade: packaging in /usr/local/lib/python3.6/dist-packages (from bleach->nbconvert->notebook>=4.4.1->widgetsnbextension~=3.5.0->ipywidgets>=7.5.1->pandas-profiling) (20.9)\n",
            "Requirement already satisfied, skipping upgrade: webencodings in /usr/local/lib/python3.6/dist-packages (from bleach->nbconvert->notebook>=4.4.1->widgetsnbextension~=3.5.0->ipywidgets>=7.5.1->pandas-profiling) (0.5.1)\n",
            "Building wheels for collected packages: phik, htmlmin\n",
            "  Building wheel for phik (setup.py) ... \u001b[?25l\u001b[?25hdone\n",
            "  Created wheel for phik: filename=phik-0.11.0-cp36-none-any.whl size=599738 sha256=c8f8c428a29b786e62de425a0087618f8d0c9daf4353f776ff8d842a55069e31\n",
            "  Stored in directory: /root/.cache/pip/wheels/af/54/11/aba77f21075918de02f7964eabfe8c10d5542df9e6ad10b225\n",
            "  Building wheel for htmlmin (setup.py) ... \u001b[?25l\u001b[?25hdone\n",
            "  Created wheel for htmlmin: filename=htmlmin-0.1.12-cp36-none-any.whl size=27085 sha256=0ede22facbd773cb40a43e4543d99d148caa77e4c40ec58240a021d5f741a057\n",
            "  Stored in directory: /root/.cache/pip/wheels/43/07/ac/7c5a9d708d65247ac1f94066cf1db075540b85716c30255459\n",
            "Successfully built phik htmlmin\n",
            "\u001b[31mERROR: google-colab 1.0.0 has requirement requests~=2.23.0, but you'll have requests 2.25.1 which is incompatible.\u001b[0m\n",
            "\u001b[31mERROR: datascience 0.10.6 has requirement folium==0.2.1, but you'll have folium 0.8.3 which is incompatible.\u001b[0m\n",
            "Installing collected packages: tangled-up-in-unicode, imagehash, visions, tqdm, confuse, requests, phik, htmlmin, pandas-profiling\n",
            "  Found existing installation: tqdm 4.41.1\n",
            "    Uninstalling tqdm-4.41.1:\n",
            "      Successfully uninstalled tqdm-4.41.1\n",
            "  Found existing installation: requests 2.23.0\n",
            "    Uninstalling requests-2.23.0:\n",
            "      Successfully uninstalled requests-2.23.0\n",
            "  Found existing installation: pandas-profiling 1.4.1\n",
            "    Uninstalling pandas-profiling-1.4.1:\n",
            "      Successfully uninstalled pandas-profiling-1.4.1\n",
            "Successfully installed confuse-1.4.0 htmlmin-0.1.12 imagehash-4.2.0 pandas-profiling-2.11.0 phik-0.11.0 requests-2.25.1 tangled-up-in-unicode-0.0.6 tqdm-4.57.0 visions-0.6.0\n",
            "Collecting category_encoders\n",
            "\u001b[?25l  Downloading https://files.pythonhosted.org/packages/44/57/fcef41c248701ee62e8325026b90c432adea35555cbc870aff9cfba23727/category_encoders-2.2.2-py2.py3-none-any.whl (80kB)\n",
            "\u001b[K     |████████████████████████████████| 81kB 4.1MB/s \n",
            "\u001b[?25hRequirement already satisfied: statsmodels>=0.9.0 in /usr/local/lib/python3.6/dist-packages (from category_encoders) (0.10.2)\n",
            "Requirement already satisfied: patsy>=0.5.1 in /usr/local/lib/python3.6/dist-packages (from category_encoders) (0.5.1)\n",
            "Requirement already satisfied: scikit-learn>=0.20.0 in /usr/local/lib/python3.6/dist-packages (from category_encoders) (0.22.2.post1)\n",
            "Requirement already satisfied: pandas>=0.21.1 in /usr/local/lib/python3.6/dist-packages (from category_encoders) (1.1.5)\n",
            "Requirement already satisfied: scipy>=1.0.0 in /usr/local/lib/python3.6/dist-packages (from category_encoders) (1.4.1)\n",
            "Requirement already satisfied: numpy>=1.14.0 in /usr/local/lib/python3.6/dist-packages (from category_encoders) (1.19.5)\n",
            "Requirement already satisfied: six in /usr/local/lib/python3.6/dist-packages (from patsy>=0.5.1->category_encoders) (1.15.0)\n",
            "Requirement already satisfied: joblib>=0.11 in /usr/local/lib/python3.6/dist-packages (from scikit-learn>=0.20.0->category_encoders) (1.0.0)\n",
            "Requirement already satisfied: python-dateutil>=2.7.3 in /usr/local/lib/python3.6/dist-packages (from pandas>=0.21.1->category_encoders) (2.8.1)\n",
            "Requirement already satisfied: pytz>=2017.2 in /usr/local/lib/python3.6/dist-packages (from pandas>=0.21.1->category_encoders) (2018.9)\n",
            "Installing collected packages: category-encoders\n",
            "Successfully installed category-encoders-2.2.2\n",
            "Collecting pdpbox\n",
            "\u001b[?25l  Downloading https://files.pythonhosted.org/packages/87/23/ac7da5ba1c6c03a87c412e7e7b6e91a10d6ecf4474906c3e736f93940d49/PDPbox-0.2.0.tar.gz (57.7MB)\n",
            "\u001b[K     |████████████████████████████████| 57.7MB 68kB/s \n",
            "\u001b[?25hRequirement already satisfied: pandas in /usr/local/lib/python3.6/dist-packages (from pdpbox) (1.1.5)\n",
            "Requirement already satisfied: numpy in /usr/local/lib/python3.6/dist-packages (from pdpbox) (1.19.5)\n",
            "Requirement already satisfied: scipy in /usr/local/lib/python3.6/dist-packages (from pdpbox) (1.4.1)\n",
            "Requirement already satisfied: matplotlib>=2.1.2 in /usr/local/lib/python3.6/dist-packages (from pdpbox) (3.2.2)\n",
            "Requirement already satisfied: joblib in /usr/local/lib/python3.6/dist-packages (from pdpbox) (1.0.0)\n",
            "Requirement already satisfied: psutil in /usr/local/lib/python3.6/dist-packages (from pdpbox) (5.4.8)\n",
            "Requirement already satisfied: scikit-learn in /usr/local/lib/python3.6/dist-packages (from pdpbox) (0.22.2.post1)\n",
            "Requirement already satisfied: pytz>=2017.2 in /usr/local/lib/python3.6/dist-packages (from pandas->pdpbox) (2018.9)\n",
            "Requirement already satisfied: python-dateutil>=2.7.3 in /usr/local/lib/python3.6/dist-packages (from pandas->pdpbox) (2.8.1)\n",
            "Requirement already satisfied: cycler>=0.10 in /usr/local/lib/python3.6/dist-packages (from matplotlib>=2.1.2->pdpbox) (0.10.0)\n",
            "Requirement already satisfied: kiwisolver>=1.0.1 in /usr/local/lib/python3.6/dist-packages (from matplotlib>=2.1.2->pdpbox) (1.3.1)\n",
            "Requirement already satisfied: pyparsing!=2.0.4,!=2.1.2,!=2.1.6,>=2.0.1 in /usr/local/lib/python3.6/dist-packages (from matplotlib>=2.1.2->pdpbox) (2.4.7)\n",
            "Requirement already satisfied: six>=1.5 in /usr/local/lib/python3.6/dist-packages (from python-dateutil>=2.7.3->pandas->pdpbox) (1.15.0)\n",
            "Building wheels for collected packages: pdpbox\n",
            "  Building wheel for pdpbox (setup.py) ... \u001b[?25l\u001b[?25hdone\n",
            "  Created wheel for pdpbox: filename=PDPbox-0.2.0-cp36-none-any.whl size=57690724 sha256=2254c94bb782ea49543d4eb938f74932c9796e9571a92dc194d0f8ab4248a764\n",
            "  Stored in directory: /root/.cache/pip/wheels/7d/08/51/63fd122b04a2c87d780464eeffb94867c75bd96a64d500a3fe\n",
            "Successfully built pdpbox\n",
            "Installing collected packages: pdpbox\n",
            "Successfully installed pdpbox-0.2.0\n",
            "Collecting shap\n",
            "\u001b[?25l  Downloading https://files.pythonhosted.org/packages/44/20/54381999efe3000f70a7f68af79ba857cfa3f82278ab0e02e6ba1c06b002/shap-0.38.1.tar.gz (352kB)\n",
            "\u001b[K     |████████████████████████████████| 358kB 7.6MB/s \n",
            "\u001b[?25hRequirement already satisfied: numpy in /usr/local/lib/python3.6/dist-packages (from shap) (1.19.5)\n",
            "Requirement already satisfied: scipy in /usr/local/lib/python3.6/dist-packages (from shap) (1.4.1)\n",
            "Requirement already satisfied: scikit-learn in /usr/local/lib/python3.6/dist-packages (from shap) (0.22.2.post1)\n",
            "Requirement already satisfied: pandas in /usr/local/lib/python3.6/dist-packages (from shap) (1.1.5)\n",
            "Requirement already satisfied: tqdm>4.25.0 in /usr/local/lib/python3.6/dist-packages (from shap) (4.57.0)\n",
            "Collecting slicer==0.0.7\n",
            "  Downloading https://files.pythonhosted.org/packages/78/c2/b3f55dfdb8af9812fdb9baf70cacf3b9e82e505b2bd4324d588888b81202/slicer-0.0.7-py3-none-any.whl\n",
            "Requirement already satisfied: numba in /usr/local/lib/python3.6/dist-packages (from shap) (0.51.2)\n",
            "Requirement already satisfied: cloudpickle in /usr/local/lib/python3.6/dist-packages (from shap) (1.3.0)\n",
            "Requirement already satisfied: joblib>=0.11 in /usr/local/lib/python3.6/dist-packages (from scikit-learn->shap) (1.0.0)\n",
            "Requirement already satisfied: pytz>=2017.2 in /usr/local/lib/python3.6/dist-packages (from pandas->shap) (2018.9)\n",
            "Requirement already satisfied: python-dateutil>=2.7.3 in /usr/local/lib/python3.6/dist-packages (from pandas->shap) (2.8.1)\n",
            "Requirement already satisfied: llvmlite<0.35,>=0.34.0.dev0 in /usr/local/lib/python3.6/dist-packages (from numba->shap) (0.34.0)\n",
            "Requirement already satisfied: setuptools in /usr/local/lib/python3.6/dist-packages (from numba->shap) (53.0.0)\n",
            "Requirement already satisfied: six>=1.5 in /usr/local/lib/python3.6/dist-packages (from python-dateutil>=2.7.3->pandas->shap) (1.15.0)\n",
            "Building wheels for collected packages: shap\n",
            "  Building wheel for shap (setup.py) ... \u001b[?25l\u001b[?25hdone\n",
            "  Created wheel for shap: filename=shap-0.38.1-cp36-cp36m-linux_x86_64.whl size=489396 sha256=43161c1e5e23f08e11da9f296ab8a7381aeab08dd87820a1e08f3930f9807e07\n",
            "  Stored in directory: /root/.cache/pip/wheels/a8/fb/e4/88012be41842b9be62ae18d82d1b1e880daf8539d1fef1fa00\n",
            "Successfully built shap\n",
            "Installing collected packages: slicer, shap\n",
            "Successfully installed shap-0.38.1 slicer-0.0.7\n"
          ],
          "name": "stdout"
        }
      ]
    },
    {
      "cell_type": "code",
      "metadata": {
        "id": "YKMYuKZg0KOo"
      },
      "source": [
        "import pandas as pd\n",
        "import seaborn as sns\n",
        "import matplotlib.pyplot as plt\n",
        "\n",
        "from pdpbox.pdp import pdp_interact, pdp_interact_plot\n",
        "from sklearn.model_selection import train_test_split\n",
        "from category_encoders import OrdinalEncoder\n",
        "from pdpbox.pdp import pdp_isolate, pdp_plot\n",
        "from pandas_profiling import ProfileReport\n",
        "from sklearn.impute import SimpleImputer\n",
        "from sklearn.metrics import r2_score\n",
        "from xgboost import XGBRegressor"
      ],
      "execution_count": 2,
      "outputs": []
    },
    {
      "cell_type": "markdown",
      "metadata": {
        "id": "BFHCAQIL1_RO"
      },
      "source": [
        "# Dataset : Deep Scapula (견갑골 심부구조)\n",
        "source : https://www.kaggle.com/iham97/deepscapulassm?select=scapFeaturesUnif_3.csv\n",
        "\n",
        "#### 견관절부의 주요 질환들을 가장 예측하기 좋은 지표는 CSA(임계 어깨 각도)다\n",
        "\n",
        "## 스토리텔링\n",
        "1. 대한의료 정보학회에 데이터 사이언티스트로 근무\n",
        "\n",
        "2. 견갑골 구조를 분석하여 CSA(임계 어깨 각도)수치를 예측<br>\n",
        "이후 CSA를 통해 RCI(회전근계 파열)또는 GH joint OA(견관절염) 주의 환자임을 파악해야함\n",
        "\n",
        "- normal range: 30-35 degrees\n",
        "- increased CSA: > 35°\n",
        "  - associated with rotator cuff tears of the shoulder\n",
        "  - sensitivity 82%; specificity 92%\n",
        "- decreased CSA: < 30°\n",
        "  - associated with primary concentric glenohumeral osteoarthritis\n",
        "  - sensitivity 78%; specificity of 97%\n",
        "\n",
        "<br>\n",
        "\n",
        "CSA란? : https://radiopaedia.org/articles/critical-shoulder-angle\n",
        "\n",
        "CSA와 RCI의 상관관계 분석 : https://www.scielo.br/scielo.php?script=sci_arttext&pid=S0102-36162017000400423\n",
        "\n",
        "견관절부 주요질환 파악에 가장좋은 지표 - CSA : https://bmcmusculoskeletdisord.biomedcentral.com/articles/10.1186/s12891-017-1559-4"
      ]
    },
    {
      "cell_type": "code",
      "metadata": {
        "colab": {
          "base_uri": "https://localhost:8080/",
          "height": 419
        },
        "id": "K08VSAkozlMu",
        "outputId": "3486d49f-9a2a-4717-87e6-3ff00c9f3584"
      },
      "source": [
        "df = pd.read_csv('/content/drive/MyDrive/Data Storage/scapFeaturesGauss1_5.csv').iloc[:, 1:12]\n",
        "df"
      ],
      "execution_count": 42,
      "outputs": [
        {
          "output_type": "execute_result",
          "data": {
            "text/html": [
              "<div>\n",
              "<style scoped>\n",
              "    .dataframe tbody tr th:only-of-type {\n",
              "        vertical-align: middle;\n",
              "    }\n",
              "\n",
              "    .dataframe tbody tr th {\n",
              "        vertical-align: top;\n",
              "    }\n",
              "\n",
              "    .dataframe thead th {\n",
              "        text-align: right;\n",
              "    }\n",
              "</style>\n",
              "<table border=\"1\" class=\"dataframe\">\n",
              "  <thead>\n",
              "    <tr style=\"text-align: right;\">\n",
              "      <th></th>\n",
              "      <th>CSA</th>\n",
              "      <th>Version</th>\n",
              "      <th>Tilt</th>\n",
              "      <th>Glene Width</th>\n",
              "      <th>Glene Length</th>\n",
              "      <th>Scapula Length</th>\n",
              "      <th>Spine Length</th>\n",
              "      <th>Lat Acromion Angle</th>\n",
              "      <th>Glene Radius</th>\n",
              "      <th>Acromion Shape</th>\n",
              "      <th>Tilt Class</th>\n",
              "    </tr>\n",
              "  </thead>\n",
              "  <tbody>\n",
              "    <tr>\n",
              "      <th>0</th>\n",
              "      <td>35.377494</td>\n",
              "      <td>14.893928</td>\n",
              "      <td>7.700076</td>\n",
              "      <td>24.500691</td>\n",
              "      <td>27.317544</td>\n",
              "      <td>145.339661</td>\n",
              "      <td>134.368393</td>\n",
              "      <td>92.145481</td>\n",
              "      <td>21.871616</td>\n",
              "      <td>1.0</td>\n",
              "      <td>2.0</td>\n",
              "    </tr>\n",
              "    <tr>\n",
              "      <th>1</th>\n",
              "      <td>41.238047</td>\n",
              "      <td>9.521284</td>\n",
              "      <td>0.835240</td>\n",
              "      <td>23.780445</td>\n",
              "      <td>35.993161</td>\n",
              "      <td>133.789950</td>\n",
              "      <td>156.821989</td>\n",
              "      <td>97.720930</td>\n",
              "      <td>33.551018</td>\n",
              "      <td>2.0</td>\n",
              "      <td>2.0</td>\n",
              "    </tr>\n",
              "    <tr>\n",
              "      <th>2</th>\n",
              "      <td>43.131545</td>\n",
              "      <td>22.434351</td>\n",
              "      <td>25.815892</td>\n",
              "      <td>23.259885</td>\n",
              "      <td>24.567649</td>\n",
              "      <td>123.298976</td>\n",
              "      <td>115.796984</td>\n",
              "      <td>105.685891</td>\n",
              "      <td>20.319127</td>\n",
              "      <td>2.0</td>\n",
              "      <td>2.0</td>\n",
              "    </tr>\n",
              "    <tr>\n",
              "      <th>3</th>\n",
              "      <td>25.095480</td>\n",
              "      <td>5.012612</td>\n",
              "      <td>5.640584</td>\n",
              "      <td>29.324090</td>\n",
              "      <td>38.052437</td>\n",
              "      <td>167.421398</td>\n",
              "      <td>143.476972</td>\n",
              "      <td>86.946494</td>\n",
              "      <td>37.621337</td>\n",
              "      <td>2.0</td>\n",
              "      <td>2.0</td>\n",
              "    </tr>\n",
              "    <tr>\n",
              "      <th>4</th>\n",
              "      <td>26.290516</td>\n",
              "      <td>5.908531</td>\n",
              "      <td>-1.585274</td>\n",
              "      <td>25.558747</td>\n",
              "      <td>38.942607</td>\n",
              "      <td>163.320756</td>\n",
              "      <td>142.726150</td>\n",
              "      <td>87.366569</td>\n",
              "      <td>38.682884</td>\n",
              "      <td>2.0</td>\n",
              "      <td>1.0</td>\n",
              "    </tr>\n",
              "    <tr>\n",
              "      <th>...</th>\n",
              "      <td>...</td>\n",
              "      <td>...</td>\n",
              "      <td>...</td>\n",
              "      <td>...</td>\n",
              "      <td>...</td>\n",
              "      <td>...</td>\n",
              "      <td>...</td>\n",
              "      <td>...</td>\n",
              "      <td>...</td>\n",
              "      <td>...</td>\n",
              "      <td>...</td>\n",
              "    </tr>\n",
              "    <tr>\n",
              "      <th>99995</th>\n",
              "      <td>23.108040</td>\n",
              "      <td>-1.986798</td>\n",
              "      <td>-4.001290</td>\n",
              "      <td>21.727007</td>\n",
              "      <td>40.670487</td>\n",
              "      <td>149.754562</td>\n",
              "      <td>138.783717</td>\n",
              "      <td>81.012235</td>\n",
              "      <td>49.572211</td>\n",
              "      <td>2.0</td>\n",
              "      <td>1.0</td>\n",
              "    </tr>\n",
              "    <tr>\n",
              "      <th>99996</th>\n",
              "      <td>42.244779</td>\n",
              "      <td>16.983629</td>\n",
              "      <td>10.835220</td>\n",
              "      <td>26.168241</td>\n",
              "      <td>39.389867</td>\n",
              "      <td>177.266484</td>\n",
              "      <td>162.806064</td>\n",
              "      <td>96.959277</td>\n",
              "      <td>25.493845</td>\n",
              "      <td>2.0</td>\n",
              "      <td>2.0</td>\n",
              "    </tr>\n",
              "    <tr>\n",
              "      <th>99997</th>\n",
              "      <td>16.448685</td>\n",
              "      <td>3.824296</td>\n",
              "      <td>9.878742</td>\n",
              "      <td>26.307192</td>\n",
              "      <td>33.972964</td>\n",
              "      <td>160.369085</td>\n",
              "      <td>120.473792</td>\n",
              "      <td>61.237730</td>\n",
              "      <td>33.025393</td>\n",
              "      <td>3.0</td>\n",
              "      <td>2.0</td>\n",
              "    </tr>\n",
              "    <tr>\n",
              "      <th>99998</th>\n",
              "      <td>25.917182</td>\n",
              "      <td>0.828885</td>\n",
              "      <td>8.055708</td>\n",
              "      <td>28.099462</td>\n",
              "      <td>37.616592</td>\n",
              "      <td>187.296428</td>\n",
              "      <td>136.919227</td>\n",
              "      <td>68.429528</td>\n",
              "      <td>36.212876</td>\n",
              "      <td>2.0</td>\n",
              "      <td>2.0</td>\n",
              "    </tr>\n",
              "    <tr>\n",
              "      <th>99999</th>\n",
              "      <td>32.901146</td>\n",
              "      <td>23.711759</td>\n",
              "      <td>-0.041822</td>\n",
              "      <td>20.901648</td>\n",
              "      <td>27.529960</td>\n",
              "      <td>122.537660</td>\n",
              "      <td>140.637773</td>\n",
              "      <td>80.059797</td>\n",
              "      <td>24.451789</td>\n",
              "      <td>2.0</td>\n",
              "      <td>1.0</td>\n",
              "    </tr>\n",
              "  </tbody>\n",
              "</table>\n",
              "<p>100000 rows × 11 columns</p>\n",
              "</div>"
            ],
            "text/plain": [
              "             CSA    Version  ...  Acromion Shape  Tilt Class\n",
              "0      35.377494  14.893928  ...             1.0         2.0\n",
              "1      41.238047   9.521284  ...             2.0         2.0\n",
              "2      43.131545  22.434351  ...             2.0         2.0\n",
              "3      25.095480   5.012612  ...             2.0         2.0\n",
              "4      26.290516   5.908531  ...             2.0         1.0\n",
              "...          ...        ...  ...             ...         ...\n",
              "99995  23.108040  -1.986798  ...             2.0         1.0\n",
              "99996  42.244779  16.983629  ...             2.0         2.0\n",
              "99997  16.448685   3.824296  ...             3.0         2.0\n",
              "99998  25.917182   0.828885  ...             2.0         2.0\n",
              "99999  32.901146  23.711759  ...             2.0         1.0\n",
              "\n",
              "[100000 rows x 11 columns]"
            ]
          },
          "metadata": {
            "tags": []
          },
          "execution_count": 42
        }
      ]
    },
    {
      "cell_type": "markdown",
      "metadata": {
        "id": "M9ThaLpAImId"
      },
      "source": [
        "# EDA"
      ]
    },
    {
      "cell_type": "code",
      "metadata": {
        "id": "k2Y7YzIc4Ma5"
      },
      "source": [
        "# df.profile_report().to_notebook_iframe()"
      ],
      "execution_count": 43,
      "outputs": []
    },
    {
      "cell_type": "code",
      "metadata": {
        "colab": {
          "base_uri": "https://localhost:8080/"
        },
        "id": "dSp8apKKF1dz",
        "outputId": "1e55152a-b36d-41ef-d189-327b28cd0601"
      },
      "source": [
        "df.isna().sum()"
      ],
      "execution_count": 44,
      "outputs": [
        {
          "output_type": "execute_result",
          "data": {
            "text/plain": [
              "CSA                   0\n",
              "Version               0\n",
              "Tilt                  0\n",
              "Glene Width           0\n",
              "Glene Length          0\n",
              "Scapula Length        0\n",
              "Spine Length          0\n",
              "Lat Acromion Angle    0\n",
              "Glene Radius          0\n",
              "Acromion Shape        0\n",
              "Tilt Class            0\n",
              "dtype: int64"
            ]
          },
          "metadata": {
            "tags": []
          },
          "execution_count": 44
        }
      ]
    },
    {
      "cell_type": "code",
      "metadata": {
        "colab": {
          "base_uri": "https://localhost:8080/",
          "height": 334
        },
        "id": "Q661w8SrtvnW",
        "outputId": "b57e57c7-8df6-43c2-ae76-c3f4d6dd4f04"
      },
      "source": [
        "df.describe()"
      ],
      "execution_count": 50,
      "outputs": [
        {
          "output_type": "execute_result",
          "data": {
            "text/html": [
              "<div>\n",
              "<style scoped>\n",
              "    .dataframe tbody tr th:only-of-type {\n",
              "        vertical-align: middle;\n",
              "    }\n",
              "\n",
              "    .dataframe tbody tr th {\n",
              "        vertical-align: top;\n",
              "    }\n",
              "\n",
              "    .dataframe thead th {\n",
              "        text-align: right;\n",
              "    }\n",
              "</style>\n",
              "<table border=\"1\" class=\"dataframe\">\n",
              "  <thead>\n",
              "    <tr style=\"text-align: right;\">\n",
              "      <th></th>\n",
              "      <th>CSA</th>\n",
              "      <th>Version</th>\n",
              "      <th>Tilt</th>\n",
              "      <th>Glene Width</th>\n",
              "      <th>Glene Length</th>\n",
              "      <th>Scapula Length</th>\n",
              "      <th>Spine Length</th>\n",
              "      <th>Lat Acromion Angle</th>\n",
              "      <th>Glene Radius</th>\n",
              "      <th>Acromion Shape</th>\n",
              "      <th>Tilt Class</th>\n",
              "    </tr>\n",
              "  </thead>\n",
              "  <tbody>\n",
              "    <tr>\n",
              "      <th>count</th>\n",
              "      <td>100000.000000</td>\n",
              "      <td>100000.000000</td>\n",
              "      <td>100000.000000</td>\n",
              "      <td>100000.000000</td>\n",
              "      <td>100000.000000</td>\n",
              "      <td>100000.000000</td>\n",
              "      <td>100000.000000</td>\n",
              "      <td>100000.000000</td>\n",
              "      <td>100000.000000</td>\n",
              "      <td>100000.00000</td>\n",
              "      <td>100000.000000</td>\n",
              "    </tr>\n",
              "    <tr>\n",
              "      <th>mean</th>\n",
              "      <td>33.830566</td>\n",
              "      <td>9.561111</td>\n",
              "      <td>5.621756</td>\n",
              "      <td>24.671350</td>\n",
              "      <td>33.834401</td>\n",
              "      <td>154.620458</td>\n",
              "      <td>136.493451</td>\n",
              "      <td>89.009871</td>\n",
              "      <td>30.182140</td>\n",
              "      <td>2.04294</td>\n",
              "      <td>1.810180</td>\n",
              "    </tr>\n",
              "    <tr>\n",
              "      <th>std</th>\n",
              "      <td>7.242213</td>\n",
              "      <td>6.379106</td>\n",
              "      <td>6.393997</td>\n",
              "      <td>3.118340</td>\n",
              "      <td>4.342510</td>\n",
              "      <td>19.480935</td>\n",
              "      <td>15.205280</td>\n",
              "      <td>9.776468</td>\n",
              "      <td>8.284924</td>\n",
              "      <td>0.36188</td>\n",
              "      <td>0.392161</td>\n",
              "    </tr>\n",
              "    <tr>\n",
              "      <th>min</th>\n",
              "      <td>3.256300</td>\n",
              "      <td>-15.213445</td>\n",
              "      <td>-16.628307</td>\n",
              "      <td>13.024653</td>\n",
              "      <td>18.263390</td>\n",
              "      <td>77.013210</td>\n",
              "      <td>72.560832</td>\n",
              "      <td>19.578528</td>\n",
              "      <td>5.870900</td>\n",
              "      <td>1.00000</td>\n",
              "      <td>1.000000</td>\n",
              "    </tr>\n",
              "    <tr>\n",
              "      <th>25%</th>\n",
              "      <td>28.911699</td>\n",
              "      <td>5.138617</td>\n",
              "      <td>1.202943</td>\n",
              "      <td>22.544308</td>\n",
              "      <td>30.828365</td>\n",
              "      <td>141.427860</td>\n",
              "      <td>126.215867</td>\n",
              "      <td>83.052879</td>\n",
              "      <td>24.664689</td>\n",
              "      <td>2.00000</td>\n",
              "      <td>2.000000</td>\n",
              "    </tr>\n",
              "    <tr>\n",
              "      <th>50%</th>\n",
              "      <td>33.697017</td>\n",
              "      <td>9.049340</td>\n",
              "      <td>5.325808</td>\n",
              "      <td>24.641797</td>\n",
              "      <td>33.710622</td>\n",
              "      <td>154.596913</td>\n",
              "      <td>136.509038</td>\n",
              "      <td>89.508890</td>\n",
              "      <td>29.233715</td>\n",
              "      <td>2.00000</td>\n",
              "      <td>2.000000</td>\n",
              "    </tr>\n",
              "    <tr>\n",
              "      <th>75%</th>\n",
              "      <td>38.600019</td>\n",
              "      <td>13.392462</td>\n",
              "      <td>9.683547</td>\n",
              "      <td>26.753020</td>\n",
              "      <td>36.712499</td>\n",
              "      <td>167.831373</td>\n",
              "      <td>146.707513</td>\n",
              "      <td>95.518573</td>\n",
              "      <td>34.635581</td>\n",
              "      <td>2.00000</td>\n",
              "      <td>2.000000</td>\n",
              "    </tr>\n",
              "    <tr>\n",
              "      <th>max</th>\n",
              "      <td>68.581035</td>\n",
              "      <td>49.208023</td>\n",
              "      <td>39.541858</td>\n",
              "      <td>40.308721</td>\n",
              "      <td>55.133939</td>\n",
              "      <td>250.337999</td>\n",
              "      <td>207.331906</td>\n",
              "      <td>128.482970</td>\n",
              "      <td>113.331020</td>\n",
              "      <td>3.00000</td>\n",
              "      <td>2.000000</td>\n",
              "    </tr>\n",
              "  </tbody>\n",
              "</table>\n",
              "</div>"
            ],
            "text/plain": [
              "                 CSA        Version  ...  Acromion Shape     Tilt Class\n",
              "count  100000.000000  100000.000000  ...    100000.00000  100000.000000\n",
              "mean       33.830566       9.561111  ...         2.04294       1.810180\n",
              "std         7.242213       6.379106  ...         0.36188       0.392161\n",
              "min         3.256300     -15.213445  ...         1.00000       1.000000\n",
              "25%        28.911699       5.138617  ...         2.00000       2.000000\n",
              "50%        33.697017       9.049340  ...         2.00000       2.000000\n",
              "75%        38.600019      13.392462  ...         2.00000       2.000000\n",
              "max        68.581035      49.208023  ...         3.00000       2.000000\n",
              "\n",
              "[8 rows x 11 columns]"
            ]
          },
          "metadata": {
            "tags": []
          },
          "execution_count": 50
        }
      ]
    },
    {
      "cell_type": "markdown",
      "metadata": {
        "id": "z8n5faptcYzg"
      },
      "source": [
        "## Features\n",
        "- CSA : Critical Shoulder Angle (임계어깨 각도)\n",
        "- Version : Glenoid Version Angle (날개뼈 내측끝과 견봉돌기를 선으로 연결하여 수직의 선을 그린뒤 관절와 좌우끝과 연결한 선의 각도)\n",
        "- Tilt : 해당 모형의 날개뼈 tilting 각도\n",
        "- Glene Width, Length, Radius : Glenoid의 높이, 너비, 반지름 (mm)\n",
        "- Scapula, Spine Length : 날개뼈의 길이(mm), 척주뼈의 길이(cm)\n",
        "- Lat Acromion Angle : Lat = Lateral, 측면 견봉각도\n",
        "- Acromion Shape : 견봉의 형태 (3가지로 분류)\n",
        "- Tilt Class : 날개뼈가 전방경사 or 후방경사"
      ]
    },
    {
      "cell_type": "markdown",
      "metadata": {
        "id": "yhOuJDmkgm9h"
      },
      "source": [
        "### Version\n",
        "\n",
        "![image.png](data:image/png;base64,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)"
      ]
    },
    {
      "cell_type": "code",
      "metadata": {
        "id": "65tTA6FPgQA2"
      },
      "source": [
        "df['Version']."
      ],
      "execution_count": null,
      "outputs": []
    },
    {
      "cell_type": "markdown",
      "metadata": {
        "id": "gGHajKHH1q5_"
      },
      "source": [
        "![image.png](data:image/png;base64,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)"
      ]
    },
    {
      "cell_type": "markdown",
      "metadata": {
        "id": "iS1q1bJrLdXY"
      },
      "source": [
        "link : http://www.koreascience.kr/article/CFKO200909659873588.pdf\n",
        "\n",
        "Saha 에 따르면 관절와의 위치는 75%의 환자에서 평균 7도의 후방 경사\n",
        "(retroversion)가 있고, 25%의 환자에서는 2~10도의 전방 경사가 있다고 하였다"
      ]
    },
    {
      "cell_type": "code",
      "metadata": {
        "colab": {
          "base_uri": "https://localhost:8080/"
        },
        "id": "lku38IkKKd-O",
        "outputId": "698606e8-bb1b-44d9-9649-d5ae15c91ff6"
      },
      "source": [
        "# 클래스의 비율\n",
        "\n",
        "df['Tilt Class'].value_counts(normalize= True)"
      ],
      "execution_count": 49,
      "outputs": [
        {
          "output_type": "execute_result",
          "data": {
            "text/plain": [
              "2.0    0.81018\n",
              "1.0    0.18982\n",
              "Name: Tilt Class, dtype: float64"
            ]
          },
          "metadata": {
            "tags": []
          },
          "execution_count": 49
        }
      ]
    },
    {
      "cell_type": "code",
      "metadata": {
        "colab": {
          "base_uri": "https://localhost:8080/",
          "height": 142
        },
        "id": "Nj1aeHWN0E40",
        "outputId": "f657dfd0-a441-4f92-857b-3f60ada1c40e"
      },
      "source": [
        "# tilt class가 1일때 Anterior(전방 경사), 2일때 Posterior(후방 경사)\n",
        "\n",
        "df[['Tilt', 'Tilt Class']].groupby(['Tilt Class']).mean()"
      ],
      "execution_count": 37,
      "outputs": [
        {
          "output_type": "execute_result",
          "data": {
            "text/html": [
              "<div>\n",
              "<style scoped>\n",
              "    .dataframe tbody tr th:only-of-type {\n",
              "        vertical-align: middle;\n",
              "    }\n",
              "\n",
              "    .dataframe tbody tr th {\n",
              "        vertical-align: top;\n",
              "    }\n",
              "\n",
              "    .dataframe thead th {\n",
              "        text-align: right;\n",
              "    }\n",
              "</style>\n",
              "<table border=\"1\" class=\"dataframe\">\n",
              "  <thead>\n",
              "    <tr style=\"text-align: right;\">\n",
              "      <th></th>\n",
              "      <th>Tilt</th>\n",
              "    </tr>\n",
              "    <tr>\n",
              "      <th>Tilt Class</th>\n",
              "      <th></th>\n",
              "    </tr>\n",
              "  </thead>\n",
              "  <tbody>\n",
              "    <tr>\n",
              "      <th>1.0</th>\n",
              "      <td>-3.082486</td>\n",
              "    </tr>\n",
              "    <tr>\n",
              "      <th>2.0</th>\n",
              "      <td>7.661105</td>\n",
              "    </tr>\n",
              "  </tbody>\n",
              "</table>\n",
              "</div>"
            ],
            "text/plain": [
              "                Tilt\n",
              "Tilt Class          \n",
              "1.0        -3.082486\n",
              "2.0         7.661105"
            ]
          },
          "metadata": {
            "tags": []
          },
          "execution_count": 37
        }
      ]
    },
    {
      "cell_type": "code",
      "metadata": {
        "colab": {
          "base_uri": "https://localhost:8080/",
          "height": 142
        },
        "id": "afoWn_lEuAtO",
        "outputId": "09473803-c8e0-472e-c881-fe2a138b8094"
      },
      "source": [
        "# 전방경사일 경우 견관절염, 후방경사일 경우 회전근개 파열 위험\n",
        "\n",
        "df[['CSA', 'Tilt Class']].groupby(['Tilt Class']).mean()"
      ],
      "execution_count": 47,
      "outputs": [
        {
          "output_type": "execute_result",
          "data": {
            "text/html": [
              "<div>\n",
              "<style scoped>\n",
              "    .dataframe tbody tr th:only-of-type {\n",
              "        vertical-align: middle;\n",
              "    }\n",
              "\n",
              "    .dataframe tbody tr th {\n",
              "        vertical-align: top;\n",
              "    }\n",
              "\n",
              "    .dataframe thead th {\n",
              "        text-align: right;\n",
              "    }\n",
              "</style>\n",
              "<table border=\"1\" class=\"dataframe\">\n",
              "  <thead>\n",
              "    <tr style=\"text-align: right;\">\n",
              "      <th></th>\n",
              "      <th>CSA</th>\n",
              "    </tr>\n",
              "    <tr>\n",
              "      <th>Tilt Class</th>\n",
              "      <th></th>\n",
              "    </tr>\n",
              "  </thead>\n",
              "  <tbody>\n",
              "    <tr>\n",
              "      <th>1.0</th>\n",
              "      <td>30.131657</td>\n",
              "    </tr>\n",
              "    <tr>\n",
              "      <th>2.0</th>\n",
              "      <td>34.697197</td>\n",
              "    </tr>\n",
              "  </tbody>\n",
              "</table>\n",
              "</div>"
            ],
            "text/plain": [
              "                  CSA\n",
              "Tilt Class           \n",
              "1.0         30.131657\n",
              "2.0         34.697197"
            ]
          },
          "metadata": {
            "tags": []
          },
          "execution_count": 47
        }
      ]
    }
  ]
}