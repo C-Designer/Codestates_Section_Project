{
  "nbformat": 4,
  "nbformat_minor": 0,
  "metadata": {
    "colab": {
      "name": "section3.ipynb",
      "provenance": [],
      "authorship_tag": "ABX9TyMeuZrg9toCTges4lhYUqqC",
      "include_colab_link": true
    },
    "kernelspec": {
      "name": "python3",
      "display_name": "Python 3"
    },
    "language_info": {
      "name": "python"
    }
  },
  "cells": [
    {
      "cell_type": "markdown",
      "metadata": {
        "id": "view-in-github",
        "colab_type": "text"
      },
      "source": [
        "<a href=\"https://colab.research.google.com/github/C-Designer/Codestates_Section_Project/blob/main/Section3/section3.ipynb\" target=\"_parent\"><img src=\"https://colab.research.google.com/assets/colab-badge.svg\" alt=\"Open In Colab\"/></a>"
      ]
    },
    {
      "cell_type": "code",
      "metadata": {
        "id": "E9Dvutr6zpDh"
      },
      "source": [
        "from sklearn.linear_model import LinearRegression\n",
        "import pandas as pd\n",
        "import numpy as np\n",
        "\n",
        "model = LinearRegression()"
      ],
      "execution_count": 3,
      "outputs": []
    },
    {
      "cell_type": "code",
      "metadata": {
        "colab": {
          "base_uri": "https://localhost:8080/"
        },
        "id": "9DfmyU7TMU8t",
        "outputId": "eb223237-cb46-494e-fa9c-b77b30455795"
      },
      "source": [
        "# trainer\n",
        "trainer = ['bj', 'tom', 'kevin', 'hani', 'jason', 'jerry', 'jerome', 'baro', 'peter', 'kelly']\n",
        "\n",
        "li = []\n",
        "for n in trainer:\n",
        "    l = []\n",
        "    l.append(n)\n",
        "    for i in range(0, 12):\n",
        "        if i > 1:\n",
        "            rd = np.random.randint(0, 100)\n",
        "        elif i == 1:\n",
        "            rd = np.random.randint(20, 40)\n",
        "        else:\n",
        "            rd = np.random.randint(1, 3)\n",
        "        l.append(rd)\n",
        "    li.append(l)\n",
        "\n",
        "li"
      ],
      "execution_count": 4,
      "outputs": [
        {
          "output_type": "execute_result",
          "data": {
            "text/plain": [
              "[['bj', 1, 24, 91, 71, 97, 88, 0, 64, 85, 35, 75, 1],\n",
              " ['tom', 2, 23, 50, 97, 90, 44, 74, 5, 99, 41, 47, 23],\n",
              " ['kevin', 2, 34, 5, 79, 29, 74, 34, 0, 58, 44, 53, 41],\n",
              " ['hani', 1, 36, 27, 88, 72, 21, 47, 99, 50, 65, 31, 89],\n",
              " ['jason', 2, 22, 78, 93, 42, 55, 85, 58, 55, 16, 28, 89],\n",
              " ['jerry', 2, 35, 51, 30, 17, 63, 37, 93, 6, 92, 41, 60],\n",
              " ['jerome', 2, 25, 22, 31, 50, 59, 33, 65, 1, 63, 12, 66],\n",
              " ['baro', 2, 38, 48, 83, 42, 64, 19, 75, 4, 29, 90, 6],\n",
              " ['peter', 2, 37, 90, 95, 8, 82, 96, 20, 60, 66, 68, 71],\n",
              " ['kelly', 1, 37, 8, 74, 23, 10, 55, 10, 80, 44, 26, 81]]"
            ]
          },
          "metadata": {
            "tags": []
          },
          "execution_count": 4
        }
      ]
    },
    {
      "cell_type": "code",
      "metadata": {
        "colab": {
          "base_uri": "https://localhost:8080/",
          "height": 419
        },
        "id": "rZziq0cf4cNk",
        "outputId": "32aa4a2c-788e-4a36-c281-cce88768bb68"
      },
      "source": [
        "# member\n",
        "li = []\n",
        "    for i in range(0, 10000):\n",
        "        l = []\n",
        "        for j in range(0, 12):\n",
        "            if j > 0:\n",
        "                rd = np.random.randint(0, 100) # wpi 0 ~ 99\n",
        "            elif i == 1:\n",
        "                rd = np.random.randint(10, 80) # age 10 ~ 80\n",
        "            else:\n",
        "                rd = np.random.randint(1, 3) # sex [1, 2]\n",
        "            l.append(rd)\n",
        "        li.append(l)\n",
        "\n",
        "  \n",
        "target = []\n",
        "for i in range(0, 10000):\n",
        "  target.append(np.random.randint(0, 2))\n",
        "\n",
        "feature = pd.DataFrame(data= np.array(li), columns=['sex', 'age', 'real', 'roman', 'human', 'ideal', 'agent', 'relation', 'trust', 'manual', 'self', 'culture'])\n",
        "feature"
      ],
      "execution_count": 102,
      "outputs": [
        {
          "output_type": "execute_result",
          "data": {
            "text/html": [
              "<div>\n",
              "<style scoped>\n",
              "    .dataframe tbody tr th:only-of-type {\n",
              "        vertical-align: middle;\n",
              "    }\n",
              "\n",
              "    .dataframe tbody tr th {\n",
              "        vertical-align: top;\n",
              "    }\n",
              "\n",
              "    .dataframe thead th {\n",
              "        text-align: right;\n",
              "    }\n",
              "</style>\n",
              "<table border=\"1\" class=\"dataframe\">\n",
              "  <thead>\n",
              "    <tr style=\"text-align: right;\">\n",
              "      <th></th>\n",
              "      <th>sex</th>\n",
              "      <th>age</th>\n",
              "      <th>real</th>\n",
              "      <th>roman</th>\n",
              "      <th>human</th>\n",
              "      <th>ideal</th>\n",
              "      <th>agent</th>\n",
              "      <th>relation</th>\n",
              "      <th>trust</th>\n",
              "      <th>manual</th>\n",
              "      <th>self</th>\n",
              "      <th>culture</th>\n",
              "    </tr>\n",
              "  </thead>\n",
              "  <tbody>\n",
              "    <tr>\n",
              "      <th>0</th>\n",
              "      <td>1</td>\n",
              "      <td>55</td>\n",
              "      <td>55</td>\n",
              "      <td>66</td>\n",
              "      <td>85</td>\n",
              "      <td>65</td>\n",
              "      <td>89</td>\n",
              "      <td>83</td>\n",
              "      <td>89</td>\n",
              "      <td>87</td>\n",
              "      <td>77</td>\n",
              "      <td>39</td>\n",
              "    </tr>\n",
              "    <tr>\n",
              "      <th>1</th>\n",
              "      <td>1</td>\n",
              "      <td>85</td>\n",
              "      <td>94</td>\n",
              "      <td>1</td>\n",
              "      <td>82</td>\n",
              "      <td>54</td>\n",
              "      <td>35</td>\n",
              "      <td>82</td>\n",
              "      <td>38</td>\n",
              "      <td>1</td>\n",
              "      <td>11</td>\n",
              "      <td>60</td>\n",
              "    </tr>\n",
              "    <tr>\n",
              "      <th>2</th>\n",
              "      <td>1</td>\n",
              "      <td>64</td>\n",
              "      <td>79</td>\n",
              "      <td>75</td>\n",
              "      <td>46</td>\n",
              "      <td>19</td>\n",
              "      <td>86</td>\n",
              "      <td>69</td>\n",
              "      <td>95</td>\n",
              "      <td>4</td>\n",
              "      <td>64</td>\n",
              "      <td>37</td>\n",
              "    </tr>\n",
              "    <tr>\n",
              "      <th>3</th>\n",
              "      <td>1</td>\n",
              "      <td>88</td>\n",
              "      <td>99</td>\n",
              "      <td>9</td>\n",
              "      <td>87</td>\n",
              "      <td>30</td>\n",
              "      <td>8</td>\n",
              "      <td>49</td>\n",
              "      <td>97</td>\n",
              "      <td>43</td>\n",
              "      <td>24</td>\n",
              "      <td>54</td>\n",
              "    </tr>\n",
              "    <tr>\n",
              "      <th>4</th>\n",
              "      <td>1</td>\n",
              "      <td>77</td>\n",
              "      <td>14</td>\n",
              "      <td>34</td>\n",
              "      <td>89</td>\n",
              "      <td>82</td>\n",
              "      <td>18</td>\n",
              "      <td>80</td>\n",
              "      <td>67</td>\n",
              "      <td>34</td>\n",
              "      <td>43</td>\n",
              "      <td>60</td>\n",
              "    </tr>\n",
              "    <tr>\n",
              "      <th>...</th>\n",
              "      <td>...</td>\n",
              "      <td>...</td>\n",
              "      <td>...</td>\n",
              "      <td>...</td>\n",
              "      <td>...</td>\n",
              "      <td>...</td>\n",
              "      <td>...</td>\n",
              "      <td>...</td>\n",
              "      <td>...</td>\n",
              "      <td>...</td>\n",
              "      <td>...</td>\n",
              "      <td>...</td>\n",
              "    </tr>\n",
              "    <tr>\n",
              "      <th>9995</th>\n",
              "      <td>1</td>\n",
              "      <td>44</td>\n",
              "      <td>75</td>\n",
              "      <td>78</td>\n",
              "      <td>49</td>\n",
              "      <td>64</td>\n",
              "      <td>20</td>\n",
              "      <td>42</td>\n",
              "      <td>46</td>\n",
              "      <td>59</td>\n",
              "      <td>12</td>\n",
              "      <td>65</td>\n",
              "    </tr>\n",
              "    <tr>\n",
              "      <th>9996</th>\n",
              "      <td>1</td>\n",
              "      <td>54</td>\n",
              "      <td>27</td>\n",
              "      <td>7</td>\n",
              "      <td>28</td>\n",
              "      <td>70</td>\n",
              "      <td>41</td>\n",
              "      <td>30</td>\n",
              "      <td>1</td>\n",
              "      <td>94</td>\n",
              "      <td>45</td>\n",
              "      <td>41</td>\n",
              "    </tr>\n",
              "    <tr>\n",
              "      <th>9997</th>\n",
              "      <td>1</td>\n",
              "      <td>49</td>\n",
              "      <td>19</td>\n",
              "      <td>19</td>\n",
              "      <td>65</td>\n",
              "      <td>45</td>\n",
              "      <td>49</td>\n",
              "      <td>59</td>\n",
              "      <td>86</td>\n",
              "      <td>47</td>\n",
              "      <td>78</td>\n",
              "      <td>83</td>\n",
              "    </tr>\n",
              "    <tr>\n",
              "      <th>9998</th>\n",
              "      <td>1</td>\n",
              "      <td>50</td>\n",
              "      <td>72</td>\n",
              "      <td>90</td>\n",
              "      <td>94</td>\n",
              "      <td>52</td>\n",
              "      <td>58</td>\n",
              "      <td>7</td>\n",
              "      <td>68</td>\n",
              "      <td>24</td>\n",
              "      <td>17</td>\n",
              "      <td>75</td>\n",
              "    </tr>\n",
              "    <tr>\n",
              "      <th>9999</th>\n",
              "      <td>2</td>\n",
              "      <td>7</td>\n",
              "      <td>17</td>\n",
              "      <td>73</td>\n",
              "      <td>64</td>\n",
              "      <td>53</td>\n",
              "      <td>99</td>\n",
              "      <td>30</td>\n",
              "      <td>62</td>\n",
              "      <td>19</td>\n",
              "      <td>74</td>\n",
              "      <td>26</td>\n",
              "    </tr>\n",
              "  </tbody>\n",
              "</table>\n",
              "<p>10000 rows × 12 columns</p>\n",
              "</div>"
            ],
            "text/plain": [
              "      sex  age  real  roman  human  ...  relation  trust  manual  self  culture\n",
              "0       1   55    55     66     85  ...        83     89      87    77       39\n",
              "1       1   85    94      1     82  ...        82     38       1    11       60\n",
              "2       1   64    79     75     46  ...        69     95       4    64       37\n",
              "3       1   88    99      9     87  ...        49     97      43    24       54\n",
              "4       1   77    14     34     89  ...        80     67      34    43       60\n",
              "...   ...  ...   ...    ...    ...  ...       ...    ...     ...   ...      ...\n",
              "9995    1   44    75     78     49  ...        42     46      59    12       65\n",
              "9996    1   54    27      7     28  ...        30      1      94    45       41\n",
              "9997    1   49    19     19     65  ...        59     86      47    78       83\n",
              "9998    1   50    72     90     94  ...         7     68      24    17       75\n",
              "9999    2    7    17     73     64  ...        30     62      19    74       26\n",
              "\n",
              "[10000 rows x 12 columns]"
            ]
          },
          "metadata": {
            "tags": []
          },
          "execution_count": 102
        }
      ]
    },
    {
      "cell_type": "code",
      "metadata": {
        "colab": {
          "base_uri": "https://localhost:8080/"
        },
        "id": "0jmBMbU0Mmde",
        "outputId": "2a4b7a87-d9c2-437f-9029-aab5e215d544"
      },
      "source": [
        "for i in range(0, 100000):\n",
        "  is_sale = np.random.randint(0, 2)\n",
        "  name = np.random.randint(0, len(trainer))\n",
        "  member_id = np.random.randint(0, 10000)\n"
      ],
      "execution_count": 8,
      "outputs": [
        {
          "output_type": "execute_result",
          "data": {
            "text/plain": [
              "0"
            ]
          },
          "metadata": {
            "tags": []
          },
          "execution_count": 8
        }
      ]
    },
    {
      "cell_type": "code",
      "metadata": {
        "colab": {
          "base_uri": "https://localhost:8080/"
        },
        "id": "G0MiTRjj0BcJ",
        "outputId": "8f32bdf4-559b-486d-fdbf-c7ccd3d8df48"
      },
      "source": [
        "model.fit(df, target)\n",
        "model.predict([[1,25, 0, 0, 0, 0, 0, 0, 0, 0, 0, 0]])"
      ],
      "execution_count": 70,
      "outputs": [
        {
          "output_type": "execute_result",
          "data": {
            "text/plain": [
              "array([0.49840679])"
            ]
          },
          "metadata": {
            "tags": []
          },
          "execution_count": 70
        }
      ]
    }
  ]
}